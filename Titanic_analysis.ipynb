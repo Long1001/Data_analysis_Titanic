{
 "cells": [
  {
   "cell_type": "markdown",
   "metadata": {},
   "source": [
    "# Titanic生存率预测项目"
   ]
  },
  {
   "attachments": {},
   "cell_type": "markdown",
   "metadata": {},
   "source": [
    "https://s1.ax1x.com/2020/05/18/Yfk4PI.png"
   ]
  },
  {
   "cell_type": "markdown",
   "metadata": {},
   "source": [
    "##  1.背景介绍"
   ]
  },
  {
   "cell_type": "markdown",
   "metadata": {},
   "source": [
    "1912年4月15日，泰坦尼克号与冰山相撞后沉没。不幸的是，船上没有足够的救生艇供所有人使用，导致大量乘客和机组人员死亡。基于此，Kaggle平台提供了一个竞赛案例：Titanic:Machine Learning from Disaster。在该案例中，我们将探究什么样的人在此次海难中幸存的几率更高，并通过构建预测模型来预测乘客生存率。"
   ]
  },
  {
   "cell_type": "markdown",
   "metadata": {},
   "source": [
    "本文通过数据可视化理解数据，并利用特征工程等方法挖掘更多有价值的特征，然后利用同组效应找出共性较强的群体并对其进行数据修正，在选择模型时分别比较了Gradient Boosting Classifier、Logistic Regression等多种方法，最终利用Gradient Boosting Classifier对乘客的生存率进行预测。"
   ]
  },
  {
   "cell_type": "markdown",
   "metadata": {},
   "source": [
    "最终，在Kaggle上的得分为0.81339，排名约TOP3%。"
   ]
  },
  {
   "attachments": {},
   "cell_type": "markdown",
   "metadata": {},
   "source": [
    "https://s1.ax1x.com/2020/05/18/YfkWad.png"
   ]
  },
  {
   "cell_type": "markdown",
   "metadata": {},
   "source": [
    "##  2.数据准备"
   ]
  },
  {
   "cell_type": "markdown",
   "metadata": {},
   "source": [
    "本文数据集是来源于Kaggle平台中“Titanic: Machine Learning from Disaster”竞赛项目，数据字段释义如下："
   ]
  },
  {
   "attachments": {},
   "cell_type": "markdown",
   "metadata": {},
   "source": [
    "https://s1.ax1x.com/2020/05/18/YfkfIA.png"
   ]
  },
  {
   "cell_type": "code",
   "execution_count": 82,
   "metadata": {},
   "outputs": [],
   "source": [
    "#(1)导入相关包\n",
    "import warnings\n",
    "warnings.filterwarnings('ignore')\n",
    "import numpy as np\n",
    "import pandas as pd\n",
    "import seaborn as sns\n",
    "import matplotlib.pyplot as plt\n",
    "#(2)设置sns样式\n",
    "sns.set(style='white',context='notebook',palette='muted')\n",
    "#(3)导入数据\n",
    "train=pd.read_csv('E:\\\\Python\\\\Python项目\\\\Titanic\\\\train.csv')\n",
    "test=pd.read_csv('E:\\\\Python\\\\Python项目\\\\Titanic\\\\test.csv')"
   ]
  },
  {
   "cell_type": "markdown",
   "metadata": {},
   "source": [
    "## 3.理解数据"
   ]
  },
  {
   "cell_type": "markdown",
   "metadata": {},
   "source": [
    "### 3.1查看数据情况"
   ]
  },
  {
   "cell_type": "markdown",
   "metadata": {},
   "source": [
    "#### 3.1.1查看数据量和数据特征，理解数据含义"
   ]
  },
  {
   "cell_type": "code",
   "execution_count": 83,
   "metadata": {},
   "outputs": [
    {
     "name": "stdout",
     "output_type": "stream",
     "text": [
      "实验数据大小 (891, 12)\n",
      "预测数据大小 (418, 11)\n"
     ]
    }
   ],
   "source": [
    "#分别查看实验数据集和预测数据集\n",
    "print('实验数据大小',train.shape)\n",
    "print('预测数据大小',test.shape)"
   ]
  },
  {
   "cell_type": "markdown",
   "metadata": {},
   "source": [
    "该数据集共1309条数据，其中实验数据891条，预测数据418条。实验数据比预测数据多了一条，即字段“Survived”。"
   ]
  },
  {
   "cell_type": "markdown",
   "metadata": {},
   "source": [
    "#### 3.1.2记录数据异常值、缺失值情况，方便进行下一步数据处理"
   ]
  },
  {
   "cell_type": "code",
   "execution_count": 84,
   "metadata": {},
   "outputs": [
    {
     "data": {
      "text/html": [
       "<div>\n",
       "<style scoped>\n",
       "    .dataframe tbody tr th:only-of-type {\n",
       "        vertical-align: middle;\n",
       "    }\n",
       "\n",
       "    .dataframe tbody tr th {\n",
       "        vertical-align: top;\n",
       "    }\n",
       "\n",
       "    .dataframe thead th {\n",
       "        text-align: right;\n",
       "    }\n",
       "</style>\n",
       "<table border=\"1\" class=\"dataframe\">\n",
       "  <thead>\n",
       "    <tr style=\"text-align: right;\">\n",
       "      <th></th>\n",
       "      <th>PassengerId</th>\n",
       "      <th>Survived</th>\n",
       "      <th>Pclass</th>\n",
       "      <th>Age</th>\n",
       "      <th>SibSp</th>\n",
       "      <th>Parch</th>\n",
       "      <th>Fare</th>\n",
       "    </tr>\n",
       "  </thead>\n",
       "  <tbody>\n",
       "    <tr>\n",
       "      <th>count</th>\n",
       "      <td>1309.000000</td>\n",
       "      <td>891.000000</td>\n",
       "      <td>1309.000000</td>\n",
       "      <td>1046.000000</td>\n",
       "      <td>1309.000000</td>\n",
       "      <td>1309.000000</td>\n",
       "      <td>1308.000000</td>\n",
       "    </tr>\n",
       "    <tr>\n",
       "      <th>mean</th>\n",
       "      <td>655.000000</td>\n",
       "      <td>0.383838</td>\n",
       "      <td>2.294882</td>\n",
       "      <td>29.881138</td>\n",
       "      <td>0.498854</td>\n",
       "      <td>0.385027</td>\n",
       "      <td>33.295479</td>\n",
       "    </tr>\n",
       "    <tr>\n",
       "      <th>std</th>\n",
       "      <td>378.020061</td>\n",
       "      <td>0.486592</td>\n",
       "      <td>0.837836</td>\n",
       "      <td>14.413493</td>\n",
       "      <td>1.041658</td>\n",
       "      <td>0.865560</td>\n",
       "      <td>51.758668</td>\n",
       "    </tr>\n",
       "    <tr>\n",
       "      <th>min</th>\n",
       "      <td>1.000000</td>\n",
       "      <td>0.000000</td>\n",
       "      <td>1.000000</td>\n",
       "      <td>0.170000</td>\n",
       "      <td>0.000000</td>\n",
       "      <td>0.000000</td>\n",
       "      <td>0.000000</td>\n",
       "    </tr>\n",
       "    <tr>\n",
       "      <th>25%</th>\n",
       "      <td>328.000000</td>\n",
       "      <td>0.000000</td>\n",
       "      <td>2.000000</td>\n",
       "      <td>21.000000</td>\n",
       "      <td>0.000000</td>\n",
       "      <td>0.000000</td>\n",
       "      <td>7.895800</td>\n",
       "    </tr>\n",
       "    <tr>\n",
       "      <th>50%</th>\n",
       "      <td>655.000000</td>\n",
       "      <td>0.000000</td>\n",
       "      <td>3.000000</td>\n",
       "      <td>28.000000</td>\n",
       "      <td>0.000000</td>\n",
       "      <td>0.000000</td>\n",
       "      <td>14.454200</td>\n",
       "    </tr>\n",
       "    <tr>\n",
       "      <th>75%</th>\n",
       "      <td>982.000000</td>\n",
       "      <td>1.000000</td>\n",
       "      <td>3.000000</td>\n",
       "      <td>39.000000</td>\n",
       "      <td>1.000000</td>\n",
       "      <td>0.000000</td>\n",
       "      <td>31.275000</td>\n",
       "    </tr>\n",
       "    <tr>\n",
       "      <th>max</th>\n",
       "      <td>1309.000000</td>\n",
       "      <td>1.000000</td>\n",
       "      <td>3.000000</td>\n",
       "      <td>80.000000</td>\n",
       "      <td>8.000000</td>\n",
       "      <td>9.000000</td>\n",
       "      <td>512.329200</td>\n",
       "    </tr>\n",
       "  </tbody>\n",
       "</table>\n",
       "</div>"
      ],
      "text/plain": [
       "       PassengerId    Survived       Pclass          Age        SibSp  \\\n",
       "count  1309.000000  891.000000  1309.000000  1046.000000  1309.000000   \n",
       "mean    655.000000    0.383838     2.294882    29.881138     0.498854   \n",
       "std     378.020061    0.486592     0.837836    14.413493     1.041658   \n",
       "min       1.000000    0.000000     1.000000     0.170000     0.000000   \n",
       "25%     328.000000    0.000000     2.000000    21.000000     0.000000   \n",
       "50%     655.000000    0.000000     3.000000    28.000000     0.000000   \n",
       "75%     982.000000    1.000000     3.000000    39.000000     1.000000   \n",
       "max    1309.000000    1.000000     3.000000    80.000000     8.000000   \n",
       "\n",
       "             Parch         Fare  \n",
       "count  1309.000000  1308.000000  \n",
       "mean      0.385027    33.295479  \n",
       "std       0.865560    51.758668  \n",
       "min       0.000000     0.000000  \n",
       "25%       0.000000     7.895800  \n",
       "50%       0.000000    14.454200  \n",
       "75%       0.000000    31.275000  \n",
       "max       9.000000   512.329200  "
      ]
     },
     "execution_count": 84,
     "metadata": {},
     "output_type": "execute_result"
    }
   ],
   "source": [
    "#查看异常值\n",
    "full=train.append(test,ignore_index=True)\n",
    "full.describe()"
   ]
  },
  {
   "cell_type": "markdown",
   "metadata": {},
   "source": [
    "无明显异常值，几乎所有数值都在正常范围内。"
   ]
  },
  {
   "cell_type": "code",
   "execution_count": 85,
   "metadata": {},
   "outputs": [
    {
     "name": "stdout",
     "output_type": "stream",
     "text": [
      "<class 'pandas.core.frame.DataFrame'>\n",
      "RangeIndex: 1309 entries, 0 to 1308\n",
      "Data columns (total 12 columns):\n",
      " #   Column       Non-Null Count  Dtype  \n",
      "---  ------       --------------  -----  \n",
      " 0   PassengerId  1309 non-null   int64  \n",
      " 1   Survived     891 non-null    float64\n",
      " 2   Pclass       1309 non-null   int64  \n",
      " 3   Name         1309 non-null   object \n",
      " 4   Sex          1309 non-null   object \n",
      " 5   Age          1046 non-null   float64\n",
      " 6   SibSp        1309 non-null   int64  \n",
      " 7   Parch        1309 non-null   int64  \n",
      " 8   Ticket       1309 non-null   object \n",
      " 9   Fare         1308 non-null   float64\n",
      " 10  Cabin        295 non-null    object \n",
      " 11  Embarked     1307 non-null   object \n",
      "dtypes: float64(3), int64(4), object(5)\n",
      "memory usage: 97.2+ KB\n"
     ]
    }
   ],
   "source": [
    "#查看缺失值\n",
    "full.info()"
   ]
  },
  {
   "cell_type": "markdown",
   "metadata": {},
   "source": [
    "结果表明，有4项缺失值，分别是Age/Fare/Cabin/Embarked,其中Cabin值缺失数量较多。"
   ]
  },
  {
   "cell_type": "markdown",
   "metadata": {},
   "source": [
    "### 3.2查看特征与标签之间的关系"
   ]
  },
  {
   "cell_type": "markdown",
   "metadata": {},
   "source": [
    "#### 3.2.1Embarked(登船地)与Survived:法国登船的乘客生存率最高"
   ]
  },
  {
   "cell_type": "code",
   "execution_count": 86,
   "metadata": {},
   "outputs": [
    {
     "data": {
      "text/plain": [
       "<matplotlib.axes._subplots.AxesSubplot at 0x17616d78>"
      ]
     },
     "execution_count": 86,
     "metadata": {},
     "output_type": "execute_result"
    },
    {
     "data": {
      "image/png": "[encoded data removed]",
      "text/plain": [
       "<Figure size 432x288 with 1 Axes>"
      ]
     },
     "metadata": {},
     "output_type": "display_data"
    }
   ],
   "source": [
    "sns.barplot(data=train,x='Embarked',y='Survived')"
   ]
  },
  {
   "cell_type": "code",
   "execution_count": 87,
   "metadata": {},
   "outputs": [
    {
     "name": "stdout",
     "output_type": "stream",
     "text": [
      "Embarked为‘S’的乘客，其生存率为0.34\n",
      "Embarked为‘C’的乘客，其生存率为0.55\n",
      "Embarked为‘Q’的乘客，其生存率为0.39\n"
     ]
    }
   ],
   "source": [
    "#计算不同类型Embarked的乘客，其生存率是多少\n",
    "print('Embarked为‘S’的乘客，其生存率为%.2f'%full['Survived'][full['Embarked']=='S'].value_counts(normalize=True)[1])\n",
    "print('Embarked为‘C’的乘客，其生存率为%.2f'%full['Survived'][full['Embarked']=='C'].value_counts(normalize=True)[1])\n",
    "print('Embarked为‘Q’的乘客，其生存率为%.2f'%full['Survived'][full['Embarked']=='Q'].value_counts(normalize=True)[1])"
   ]
  },
  {
   "cell_type": "markdown",
   "metadata": {},
   "source": [
    "法国登船的乘客生存率最高，这可能与其头等舱乘客比例较高有关，因此继续查看不同登船地点各舱位乘客数量情况。"
   ]
  },
  {
   "cell_type": "code",
   "execution_count": 88,
   "metadata": {},
   "outputs": [
    {
     "data": {
      "text/plain": [
       "<seaborn.axisgrid.FacetGrid at 0x16d3e718>"
      ]
     },
     "execution_count": 88,
     "metadata": {},
     "output_type": "execute_result"
    },
    {
     "data": {
      "image/png": "[encoded data removed]",
      "text/plain": [
       "<Figure size 648x216 with 3 Axes>"
      ]
     },
     "metadata": {},
     "output_type": "display_data"
    }
   ],
   "source": [
    "sns.factorplot('Pclass',col='Embarked',data=train,size=3,kind='count')"
   ]
  },
  {
   "cell_type": "markdown",
   "metadata": {},
   "source": [
    "从图中可以看出，法国登船的乘客头等舱的比例更高。因此可以猜测，法国登船的乘客生存率最高，可能与头等舱的比例最高有关。"
   ]
  },
  {
   "cell_type": "markdown",
   "metadata": {},
   "source": [
    "#### 3.2.2Parch(与乘客同行的父母及子女数量)与Survived：当与乘客同行的父母及子女数量适中时，生存率较高"
   ]
  },
  {
   "cell_type": "code",
   "execution_count": 89,
   "metadata": {},
   "outputs": [
    {
     "data": {
      "text/plain": [
       "<matplotlib.axes._subplots.AxesSubplot at 0x181b5538>"
      ]
     },
     "execution_count": 89,
     "metadata": {},
     "output_type": "execute_result"
    },
    {
     "data": {
      "image/png": "[encoded data removed]",
      "text/plain": [
       "<Figure size 432x288 with 1 Axes>"
      ]
     },
     "metadata": {},
     "output_type": "display_data"
    }
   ],
   "source": [
    "sns.barplot(data=train,x='Parch',y='Survived')"
   ]
  },
  {
   "cell_type": "markdown",
   "metadata": {},
   "source": [
    "#### 3.2.3SibSp(与乘客同行的同辈数量)与Survived：当与乘客同行的同辈数量适中时生存率较高"
   ]
  },
  {
   "cell_type": "code",
   "execution_count": 90,
   "metadata": {},
   "outputs": [
    {
     "data": {
      "text/plain": [
       "<matplotlib.axes._subplots.AxesSubplot at 0x181b5b08>"
      ]
     },
     "execution_count": 90,
     "metadata": {},
     "output_type": "execute_result"
    },
    {
     "data": {
      "image/png": "[encoded data removed]",
      "text/plain": [
       "<Figure size 432x288 with 1 Axes>"
      ]
     },
     "metadata": {},
     "output_type": "display_data"
    }
   ],
   "source": [
    "sns.barplot(data=train,x='SibSp',y='Survived')"
   ]
  },
  {
   "cell_type": "markdown",
   "metadata": {},
   "source": [
    "#### 3.2.4Pclass(客舱等级)与Survived：客舱等级越高，生存率越高"
   ]
  },
  {
   "cell_type": "code",
   "execution_count": 91,
   "metadata": {},
   "outputs": [
    {
     "data": {
      "text/plain": [
       "<matplotlib.axes._subplots.AxesSubplot at 0x181b46e8>"
      ]
     },
     "execution_count": 91,
     "metadata": {},
     "output_type": "execute_result"
    },
    {
     "data": {
      "image/png": "[encoded data removed]",
      "text/plain": [
       "<Figure size 432x288 with 1 Axes>"
      ]
     },
     "metadata": {},
     "output_type": "display_data"
    }
   ],
   "source": [
    "sns.barplot(data=train,x='Pclass',y='Survived')"
   ]
  },
  {
   "cell_type": "markdown",
   "metadata": {},
   "source": [
    "#### 3.2.5Sex(性别)与Survived：女性的生存率远高于男性"
   ]
  },
  {
   "cell_type": "code",
   "execution_count": 92,
   "metadata": {},
   "outputs": [
    {
     "data": {
      "text/plain": [
       "<matplotlib.axes._subplots.AxesSubplot at 0x16d32fe8>"
      ]
     },
     "execution_count": 92,
     "metadata": {},
     "output_type": "execute_result"
    },
    {
     "data": {
      "image/png": "[encoded data removed]",
      "text/plain": [
       "<Figure size 432x288 with 1 Axes>"
      ]
     },
     "metadata": {},
     "output_type": "display_data"
    }
   ],
   "source": [
    "sns.barplot(data=train,x='Sex',y='Survived')"
   ]
  },
  {
   "cell_type": "markdown",
   "metadata": {},
   "source": [
    "#### 3.2.6Age(年龄)与Survived:年龄在0-10岁之间的乘客生存率会更高"
   ]
  },
  {
   "cell_type": "code",
   "execution_count": 93,
   "metadata": {},
   "outputs": [
    {
     "data": {
      "text/plain": [
       "<seaborn.axisgrid.FacetGrid at 0x1722d1f0>"
      ]
     },
     "execution_count": 93,
     "metadata": {},
     "output_type": "execute_result"
    },
    {
     "data": {
      "image/png": "[encoded data removed]",
      "text/plain": [
       "<Figure size 696.425x216 with 1 Axes>"
      ]
     },
     "metadata": {},
     "output_type": "display_data"
    }
   ],
   "source": [
    "#创建坐标轴\n",
    "ageFacet=sns.FacetGrid(train,hue='Survived',aspect=3)\n",
    "#作图，选择图形类型\n",
    "ageFacet.map(sns.kdeplot,'Age',shade=True)\n",
    "#其他信息：坐标轴范围，标签等\n",
    "ageFacet.set(xlim=(0,train['Age'].max()))\n",
    "ageFacet.add_legend()"
   ]
  },
  {
   "cell_type": "markdown",
   "metadata": {},
   "source": [
    "#### 3.2.7Fare(票价)与Survived:票价低于30左右时生存率较低，票价越高生存率越高"
   ]
  },
  {
   "cell_type": "code",
   "execution_count": 94,
   "metadata": {},
   "outputs": [
    {
     "data": {
      "text/plain": [
       "<seaborn.axisgrid.FacetGrid at 0x171547d8>"
      ]
     },
     "execution_count": 94,
     "metadata": {},
     "output_type": "execute_result"
    },
    {
     "data": {
      "image/png": "[encoded data removed]",
      "text/plain": [
       "<Figure size 696.425x216 with 1 Axes>"
      ]
     },
     "metadata": {},
     "output_type": "display_data"
    }
   ],
   "source": [
    "#创建坐标轴\n",
    "ageFacet=sns.FacetGrid(train,hue='Survived',aspect=3)\n",
    "#作图，选择图形类型\n",
    "ageFacet.map(sns.kdeplot,'Fare',shade=True)\n",
    "#其他信息：坐标轴范围，标签等\n",
    "ageFacet.set(xlim=(0,150))\n",
    "ageFacet.add_legend()"
   ]
  },
  {
   "cell_type": "markdown",
   "metadata": {},
   "source": [
    "## 4.数据预处理\n",
    "数据预处理主要包括以下4个方面的内容：  \n",
    "• 数据清洗（缺失值及异常值的处理）  \n",
    "• 特征工程（基于对现有数据特征的理解构造新的特征，以挖掘数据的更多特点）  \n",
    "• 同组识别（找出具有明显同组效应且违背整体规律的数据，对其数据进行修正）  \n",
    "• 筛选子集（对数据进行降维，选择子集）"
   ]
  },
  {
   "cell_type": "markdown",
   "metadata": {},
   "source": [
    "### 4.1数据清洗"
   ]
  },
  {
   "cell_type": "markdown",
   "metadata": {},
   "source": [
    "对数据的缺失值、异常值进行处理，便于对数据进一步分析。本数据集中有4个字段的数据存在缺失情况，即Cabin/Embarked/Fare/Age，未发现数据存在明显异常情况。其中Age字段缺失值较多且为连续型数值，将在4.2特征工程章节挖取更多特征后进行缺失值填充。"
   ]
  },
  {
   "cell_type": "markdown",
   "metadata": {},
   "source": [
    "#### 4.1.1Cabin（船舱号）缺失值填充"
   ]
  },
  {
   "cell_type": "code",
   "execution_count": 95,
   "metadata": {},
   "outputs": [
    {
     "data": {
      "text/plain": [
       "0       U\n",
       "1     C85\n",
       "2       U\n",
       "3    C123\n",
       "4       U\n",
       "Name: Cabin, dtype: object"
      ]
     },
     "execution_count": 95,
     "metadata": {},
     "output_type": "execute_result"
    }
   ],
   "source": [
    "#对Cabin进行缺失值处理，利用U（Unknown）进行填充\n",
    "full['Cabin']=full['Cabin'].fillna('U')\n",
    "full['Cabin'].head()"
   ]
  },
  {
   "cell_type": "markdown",
   "metadata": {},
   "source": [
    "#### 4.1.2Embarked（登船地）缺失值填充"
   ]
  },
  {
   "cell_type": "code",
   "execution_count": 96,
   "metadata": {},
   "outputs": [
    {
     "data": {
      "text/html": [
       "<div>\n",
       "<style scoped>\n",
       "    .dataframe tbody tr th:only-of-type {\n",
       "        vertical-align: middle;\n",
       "    }\n",
       "\n",
       "    .dataframe tbody tr th {\n",
       "        vertical-align: top;\n",
       "    }\n",
       "\n",
       "    .dataframe thead th {\n",
       "        text-align: right;\n",
       "    }\n",
       "</style>\n",
       "<table border=\"1\" class=\"dataframe\">\n",
       "  <thead>\n",
       "    <tr style=\"text-align: right;\">\n",
       "      <th></th>\n",
       "      <th>PassengerId</th>\n",
       "      <th>Survived</th>\n",
       "      <th>Pclass</th>\n",
       "      <th>Name</th>\n",
       "      <th>Sex</th>\n",
       "      <th>Age</th>\n",
       "      <th>SibSp</th>\n",
       "      <th>Parch</th>\n",
       "      <th>Ticket</th>\n",
       "      <th>Fare</th>\n",
       "      <th>Cabin</th>\n",
       "      <th>Embarked</th>\n",
       "    </tr>\n",
       "  </thead>\n",
       "  <tbody>\n",
       "    <tr>\n",
       "      <th>61</th>\n",
       "      <td>62</td>\n",
       "      <td>1.0</td>\n",
       "      <td>1</td>\n",
       "      <td>Icard, Miss. Amelie</td>\n",
       "      <td>female</td>\n",
       "      <td>38.0</td>\n",
       "      <td>0</td>\n",
       "      <td>0</td>\n",
       "      <td>113572</td>\n",
       "      <td>80.0</td>\n",
       "      <td>B28</td>\n",
       "      <td>NaN</td>\n",
       "    </tr>\n",
       "    <tr>\n",
       "      <th>829</th>\n",
       "      <td>830</td>\n",
       "      <td>1.0</td>\n",
       "      <td>1</td>\n",
       "      <td>Stone, Mrs. George Nelson (Martha Evelyn)</td>\n",
       "      <td>female</td>\n",
       "      <td>62.0</td>\n",
       "      <td>0</td>\n",
       "      <td>0</td>\n",
       "      <td>113572</td>\n",
       "      <td>80.0</td>\n",
       "      <td>B28</td>\n",
       "      <td>NaN</td>\n",
       "    </tr>\n",
       "  </tbody>\n",
       "</table>\n",
       "</div>"
      ],
      "text/plain": [
       "     PassengerId  Survived  Pclass                                       Name  \\\n",
       "61            62       1.0       1                        Icard, Miss. Amelie   \n",
       "829          830       1.0       1  Stone, Mrs. George Nelson (Martha Evelyn)   \n",
       "\n",
       "        Sex   Age  SibSp  Parch  Ticket  Fare Cabin Embarked  \n",
       "61   female  38.0      0      0  113572  80.0   B28      NaN  \n",
       "829  female  62.0      0      0  113572  80.0   B28      NaN  "
      ]
     },
     "execution_count": 96,
     "metadata": {},
     "output_type": "execute_result"
    }
   ],
   "source": [
    "#对Embarked进行缺失值处理，查看缺失值情况\n",
    "full[full['Embarked'].isnull()]"
   ]
  },
  {
   "cell_type": "code",
   "execution_count": 97,
   "metadata": {},
   "outputs": [
    {
     "data": {
      "text/plain": [
       "S    914\n",
       "C    270\n",
       "Q    123\n",
       "Name: Embarked, dtype: int64"
      ]
     },
     "execution_count": 97,
     "metadata": {},
     "output_type": "execute_result"
    }
   ],
   "source": [
    "#查看Embarked数据分布情况\n",
    "full['Embarked'].value_counts()"
   ]
  },
  {
   "cell_type": "code",
   "execution_count": 98,
   "metadata": {},
   "outputs": [],
   "source": [
    "#查看Embarked数据分布情况可知在英国南安普顿登船的可能性最大，因此以此填充缺失值。\n",
    "full['Embarked']=full['Embarked'].fillna('S')"
   ]
  },
  {
   "cell_type": "markdown",
   "metadata": {},
   "source": [
    "#### 4.1.3Fare（票价）缺失值填充"
   ]
  },
  {
   "cell_type": "code",
   "execution_count": 99,
   "metadata": {},
   "outputs": [
    {
     "data": {
      "text/html": [
       "<div>\n",
       "<style scoped>\n",
       "    .dataframe tbody tr th:only-of-type {\n",
       "        vertical-align: middle;\n",
       "    }\n",
       "\n",
       "    .dataframe tbody tr th {\n",
       "        vertical-align: top;\n",
       "    }\n",
       "\n",
       "    .dataframe thead th {\n",
       "        text-align: right;\n",
       "    }\n",
       "</style>\n",
       "<table border=\"1\" class=\"dataframe\">\n",
       "  <thead>\n",
       "    <tr style=\"text-align: right;\">\n",
       "      <th></th>\n",
       "      <th>PassengerId</th>\n",
       "      <th>Survived</th>\n",
       "      <th>Pclass</th>\n",
       "      <th>Name</th>\n",
       "      <th>Sex</th>\n",
       "      <th>Age</th>\n",
       "      <th>SibSp</th>\n",
       "      <th>Parch</th>\n",
       "      <th>Ticket</th>\n",
       "      <th>Fare</th>\n",
       "      <th>Cabin</th>\n",
       "      <th>Embarked</th>\n",
       "    </tr>\n",
       "  </thead>\n",
       "  <tbody>\n",
       "    <tr>\n",
       "      <th>1043</th>\n",
       "      <td>1044</td>\n",
       "      <td>NaN</td>\n",
       "      <td>3</td>\n",
       "      <td>Storey, Mr. Thomas</td>\n",
       "      <td>male</td>\n",
       "      <td>60.5</td>\n",
       "      <td>0</td>\n",
       "      <td>0</td>\n",
       "      <td>3701</td>\n",
       "      <td>NaN</td>\n",
       "      <td>U</td>\n",
       "      <td>S</td>\n",
       "    </tr>\n",
       "  </tbody>\n",
       "</table>\n",
       "</div>"
      ],
      "text/plain": [
       "      PassengerId  Survived  Pclass                Name   Sex   Age  SibSp  \\\n",
       "1043         1044       NaN       3  Storey, Mr. Thomas  male  60.5      0   \n",
       "\n",
       "      Parch Ticket  Fare Cabin Embarked  \n",
       "1043      0   3701   NaN     U        S  "
      ]
     },
     "execution_count": 99,
     "metadata": {},
     "output_type": "execute_result"
    }
   ],
   "source": [
    "#查看Fare缺失值情况\n",
    "full[full['Fare'].isnull()]"
   ]
  },
  {
   "cell_type": "code",
   "execution_count": 100,
   "metadata": {},
   "outputs": [
    {
     "data": {
      "text/plain": [
       "<matplotlib.legend.Legend at 0x16d57958>"
      ]
     },
     "execution_count": 100,
     "metadata": {},
     "output_type": "execute_result"
    },
    {
     "data": {
      "image/png": "[encoded data removed]",
      "text/plain": [
       "<Figure size 432x288 with 1 Axes>"
      ]
     },
     "metadata": {},
     "output_type": "display_data"
    }
   ],
   "source": [
    "#查看票价的分布特征\n",
    "farePlot=sns.distplot(full['Fare'][full['Fare'].notnull()],label='skewness:%.2f'%(full['Fare'].skew()))\n",
    "farePlot.legend(loc='best')"
   ]
  },
  {
   "cell_type": "code",
   "execution_count": 101,
   "metadata": {},
   "outputs": [],
   "source": [
    "#fare的分布呈左偏的趋势，偏度高达4.37，应对数据进行对数化处理，防止权重分布不均。\n",
    "full['Fare']=full['Fare'].map(lambda x:np.log(x) if x>0 else 0)"
   ]
  },
  {
   "cell_type": "code",
   "execution_count": 102,
   "metadata": {},
   "outputs": [],
   "source": [
    "#利用3等舱，登船港口为法国，舱位未知旅客的平均票价来填充缺失值。\n",
    "full['Fare']=full['Fare'].fillna(full[(full['Pclass']==3)&(full['Embarked']=='C')&full['Cabin']=='U']['Fare'].mean())"
   ]
  },
  {
   "cell_type": "markdown",
   "metadata": {},
   "source": [
    "对fare数据进行对数化处理的原因在于，取对数之后不会改变数据的性质和相关关系，但压缩了变量的尺度，数据更加平稳，也消弱了模型的共线性。"
   ]
  },
  {
   "cell_type": "markdown",
   "metadata": {},
   "source": [
    "### 4.2特征工程"
   ]
  },
  {
   "cell_type": "markdown",
   "metadata": {},
   "source": [
    "在理解原数据特征的基础上，特征工程通过对原有数据进行整合处理，得到新特征以反映数据的更多信息。"
   ]
  },
  {
   "cell_type": "markdown",
   "metadata": {},
   "source": [
    "#### 4.2.1Name中的头衔信息-Title"
   ]
  },
  {
   "cell_type": "markdown",
   "metadata": {},
   "source": [
    "旅客姓名中包含头衔信息，不同头衔也可以反映旅客的不同身份，而不同身份的旅客其生存率有可能会出现较大的差异。因此通过Name特征提取旅客头衔Title信息，并分析Title与Survived之间的关系。"
   ]
  },
  {
   "cell_type": "code",
   "execution_count": 103,
   "metadata": {},
   "outputs": [
    {
     "data": {
      "text/plain": [
       "Mr              757\n",
       "Miss            260\n",
       "Mrs             197\n",
       "Master           61\n",
       "Rev               8\n",
       "Dr                8\n",
       "Col               4\n",
       "Major             2\n",
       "Ms                2\n",
       "Mlle              2\n",
       "Mme               1\n",
       "Dona              1\n",
       "Lady              1\n",
       "Capt              1\n",
       "Don               1\n",
       "Jonkheer          1\n",
       "the Countess      1\n",
       "Sir               1\n",
       "Name: Title, dtype: int64"
      ]
     },
     "execution_count": 103,
     "metadata": {},
     "output_type": "execute_result"
    }
   ],
   "source": [
    "#创造新特征Title\n",
    "full['Title']=full['Name'].map(lambda x:x.split(',')[1].split('.')[0].strip())\n",
    "#查看Title数据分布\n",
    "full['Title'].value_counts()"
   ]
  },
  {
   "cell_type": "code",
   "execution_count": 104,
   "metadata": {},
   "outputs": [
    {
     "data": {
      "text/plain": [
       "Mr         757\n",
       "Miss       262\n",
       "Mrs        200\n",
       "Master      62\n",
       "Officer     23\n",
       "Royalty      5\n",
       "Name: Title, dtype: int64"
      ]
     },
     "execution_count": 104,
     "metadata": {},
     "output_type": "execute_result"
    }
   ],
   "source": [
    "#将相近的Title信息整合在一起：\n",
    "TitleDict={}\n",
    "TitleDict['Mr']='Mr'\n",
    "TitleDict['Mlle']='Miss'\n",
    "TitleDict['Miss']='Miss'\n",
    "TitleDict['Master']='Master'\n",
    "TitleDict['Jonkheer']='Master'\n",
    "TitleDict['Mme']='Mrs'\n",
    "TitleDict['Ms']='Mrs'\n",
    "TitleDict['Mrs']='Mrs'\n",
    "TitleDict['Don']='Royalty'\n",
    "TitleDict['Sir']='Royalty'\n",
    "TitleDict['the Countess']='Royalty'\n",
    "TitleDict['Dona']='Royalty'\n",
    "TitleDict['Lady']='Royalty'\n",
    "TitleDict['Capt']='Officer'\n",
    "TitleDict['Col']='Officer'\n",
    "TitleDict['Major']='Officer'\n",
    "TitleDict['Dr']='Officer'\n",
    "TitleDict['Rev']='Officer'\n",
    "\n",
    "full['Title']=full['Title'].map(TitleDict)\n",
    "full['Title'].value_counts()"
   ]
  },
  {
   "cell_type": "code",
   "execution_count": 105,
   "metadata": {},
   "outputs": [
    {
     "data": {
      "text/plain": [
       "<matplotlib.axes._subplots.AxesSubplot at 0x12b39628>"
      ]
     },
     "execution_count": 105,
     "metadata": {},
     "output_type": "execute_result"
    },
    {
     "data": {
      "image/png": "[encoded data removed]",
      "text/plain": [
       "<Figure size 432x288 with 1 Axes>"
      ]
     },
     "metadata": {},
     "output_type": "display_data"
    }
   ],
   "source": [
    "#观察新标签Title和Survived之间的关系\n",
    "sns.barplot(data=full,x='Title',y='Survived')"
   ]
  },
  {
   "cell_type": "markdown",
   "metadata": {},
   "source": [
    "头衔为‘Mr’及‘Officer’的乘客生存率明显偏低。"
   ]
  },
  {
   "cell_type": "markdown",
   "metadata": {},
   "source": [
    "#### 4.2.2 familyNum及familySize信息"
   ]
  },
  {
   "cell_type": "markdown",
   "metadata": {},
   "source": [
    "将Parch及SibSp字段整合得到一名乘客同行的家庭成员的总人数FamilyNum的字段，再根据家庭人员具体人数的多少得到家庭规模FamilySize这个新字段。"
   ]
  },
  {
   "cell_type": "code",
   "execution_count": 106,
   "metadata": {},
   "outputs": [
    {
     "data": {
      "text/plain": [
       "<matplotlib.axes._subplots.AxesSubplot at 0x16a1a778>"
      ]
     },
     "execution_count": 106,
     "metadata": {},
     "output_type": "execute_result"
    },
    {
     "data": {
      "image/png": "[encoded data removed]",
      "text/plain": [
       "<Figure size 432x288 with 1 Axes>"
      ]
     },
     "metadata": {},
     "output_type": "display_data"
    }
   ],
   "source": [
    "#familyNum\n",
    "full['familyNum']=full['Parch']+full['SibSp']+1\n",
    "#查看FamilyNum和Survived之间的关系\n",
    "sns.barplot(data=full,x='familyNum',y='Survived')"
   ]
  },
  {
   "cell_type": "markdown",
   "metadata": {},
   "source": [
    "家庭成员在2-4人时，生存率偏高，当没有家庭成员或家庭成员较多时，生存率偏低。"
   ]
  },
  {
   "cell_type": "code",
   "execution_count": 107,
   "metadata": {},
   "outputs": [
    {
     "data": {
      "text/plain": [
       "0    790\n",
       "1    437\n",
       "2     82\n",
       "Name: familySize, dtype: int64"
      ]
     },
     "execution_count": 107,
     "metadata": {},
     "output_type": "execute_result"
    }
   ],
   "source": [
    "#familySize\n",
    "#按照家庭成员人数的多少，将家庭规模分为三类:\n",
    "def familysize(familyNum):\n",
    "    if familyNum==1:\n",
    "        return 0\n",
    "    elif (familyNum>=2)&(familyNum<=4):\n",
    "        return 1\n",
    "    else:\n",
    "        return 2\n",
    "    \n",
    "full['familySize']=full['familyNum'].map(familysize)\n",
    "full['familySize'].value_counts()"
   ]
  },
  {
   "cell_type": "code",
   "execution_count": 108,
   "metadata": {},
   "outputs": [
    {
     "data": {
      "text/plain": [
       "<matplotlib.axes._subplots.AxesSubplot at 0x12b39640>"
      ]
     },
     "execution_count": 108,
     "metadata": {},
     "output_type": "execute_result"
    },
    {
     "data": {
      "image/png": "[encoded data removed]",
      "text/plain": [
       "<Figure size 432x288 with 1 Axes>"
      ]
     },
     "metadata": {},
     "output_type": "display_data"
    }
   ],
   "source": [
    "#查看familySize与Survived之间的关系\n",
    "sns.barplot(data=full,x='familySize',y='Survived')"
   ]
  },
  {
   "cell_type": "markdown",
   "metadata": {},
   "source": [
    "家庭规模适中时，乘客的生存率更高。"
   ]
  },
  {
   "cell_type": "markdown",
   "metadata": {},
   "source": [
    "#### 4.2.3 Cabin客舱类型信息-Deck"
   ]
  },
  {
   "cell_type": "markdown",
   "metadata": {},
   "source": [
    "Cabin字段的首字母代表客舱的类型，反映不同乘客群体的特点，也可能与乘客的生存率有关。"
   ]
  },
  {
   "cell_type": "code",
   "execution_count": 109,
   "metadata": {},
   "outputs": [
    {
     "data": {
      "text/plain": [
       "<matplotlib.axes._subplots.AxesSubplot at 0x154b3e50>"
      ]
     },
     "execution_count": 109,
     "metadata": {},
     "output_type": "execute_result"
    },
    {
     "data": {
      "image/png": "[encoded data removed]",
      "text/plain": [
       "<Figure size 432x288 with 1 Axes>"
      ]
     },
     "metadata": {},
     "output_type": "display_data"
    }
   ],
   "source": [
    "#截取Cabin字段首字母\n",
    "full['Deck']=full['Cabin'].map(lambda x:x[0])\n",
    "#查看不同Deck类型乘客的生存率\n",
    "sns.barplot(data=full,x='Deck',y='Survived')"
   ]
  },
  {
   "cell_type": "markdown",
   "metadata": {},
   "source": [
    "当客舱类型为B/D/E时，生存率较高；当客舱类型为U/T时，生存率较低。"
   ]
  },
  {
   "cell_type": "markdown",
   "metadata": {},
   "source": [
    "#### 4.2.4共票号乘客数量TickCot及TickGroup"
   ]
  },
  {
   "cell_type": "markdown",
   "metadata": {},
   "source": [
    "同一票号的乘客数量可能不同，可能也与生存率有关。"
   ]
  },
  {
   "cell_type": "code",
   "execution_count": 110,
   "metadata": {},
   "outputs": [
    {
     "data": {
      "text/plain": [
       "CA. 2343        11\n",
       "CA 2144          8\n",
       "1601             8\n",
       "S.O.C. 14879     7\n",
       "3101295          7\n",
       "Name: Ticket, dtype: int64"
      ]
     },
     "execution_count": 110,
     "metadata": {},
     "output_type": "execute_result"
    }
   ],
   "source": [
    "#TickCot\n",
    "#提取各票号的乘客数量\n",
    "TickCountDict={}\n",
    "TickCountDict=full['Ticket'].value_counts()\n",
    "TickCountDict.head()"
   ]
  },
  {
   "cell_type": "code",
   "execution_count": 111,
   "metadata": {},
   "outputs": [
    {
     "data": {
      "text/plain": [
       "0    1\n",
       "1    2\n",
       "2    1\n",
       "3    2\n",
       "4    1\n",
       "Name: TickCot, dtype: int64"
      ]
     },
     "execution_count": 111,
     "metadata": {},
     "output_type": "execute_result"
    }
   ],
   "source": [
    "#将同票号乘客并入数据集中\n",
    "full['TickCot']=full['Ticket'].map(TickCountDict)\n",
    "full['TickCot'].head()"
   ]
  },
  {
   "cell_type": "code",
   "execution_count": 112,
   "metadata": {},
   "outputs": [
    {
     "data": {
      "text/plain": [
       "<matplotlib.axes._subplots.AxesSubplot at 0x17584478>"
      ]
     },
     "execution_count": 112,
     "metadata": {},
     "output_type": "execute_result"
    },
    {
     "data": {
      "image/png": "[encoded data removed]",
      "text/plain": [
       "<Figure size 432x288 with 1 Axes>"
      ]
     },
     "metadata": {},
     "output_type": "display_data"
    }
   ],
   "source": [
    "#查看TickCot与Survived之间的关系\n",
    "sns.barplot(data=full,x='TickCot',y='Survived')"
   ]
  },
  {
   "cell_type": "markdown",
   "metadata": {},
   "source": [
    "当相同票号乘客数量适中时，生存率较高。"
   ]
  },
  {
   "cell_type": "code",
   "execution_count": 113,
   "metadata": {},
   "outputs": [
    {
     "data": {
      "text/plain": [
       "<matplotlib.axes._subplots.AxesSubplot at 0x176892e0>"
      ]
     },
     "execution_count": 113,
     "metadata": {},
     "output_type": "execute_result"
    },
    {
     "data": {
      "image/png": "[encoded data removed]",
      "text/plain": [
       "<Figure size 432x288 with 1 Axes>"
      ]
     },
     "metadata": {},
     "output_type": "display_data"
    }
   ],
   "source": [
    "#TickGroup\n",
    "#按照TickCot大小，将TickGroup分为3类：\n",
    "def TickCountGroup(num):\n",
    "    if (num>=2)&(num<=4):\n",
    "        return 0\n",
    "    elif (num==1)|((num>=5)&(num<=8)):\n",
    "        return 1\n",
    "    else:\n",
    "        return 2\n",
    "#得到各位乘客TickGroup的类别：\n",
    "full['TickGroup']=full['TickCot'].map(TickCountGroup)\n",
    "#查看TickGroup与Survived之间的关系：\n",
    "sns.barplot(data=full,x='TickGroup',y='Survived')"
   ]
  },
  {
   "cell_type": "markdown",
   "metadata": {},
   "source": [
    "#### 4.2.5Age缺失值填充-构建随机森林模型预测缺失的数据"
   ]
  },
  {
   "cell_type": "markdown",
   "metadata": {},
   "source": [
    "查看Age与Parch、Pclass、Sex、SibSp、Title、familyNum、familySize、Deck、TickCot、TickGroup等变量的相关系数大小，筛选出相关性较高的变量构建预测模型"
   ]
  },
  {
   "cell_type": "code",
   "execution_count": 114,
   "metadata": {},
   "outputs": [
    {
     "data": {
      "text/html": [
       "<div>\n",
       "<style scoped>\n",
       "    .dataframe tbody tr th:only-of-type {\n",
       "        vertical-align: middle;\n",
       "    }\n",
       "\n",
       "    .dataframe tbody tr th {\n",
       "        vertical-align: top;\n",
       "    }\n",
       "\n",
       "    .dataframe thead th {\n",
       "        text-align: right;\n",
       "    }\n",
       "</style>\n",
       "<table border=\"1\" class=\"dataframe\">\n",
       "  <thead>\n",
       "    <tr style=\"text-align: right;\">\n",
       "      <th></th>\n",
       "      <th>PassengerId</th>\n",
       "      <th>Survived</th>\n",
       "      <th>Pclass</th>\n",
       "      <th>Name</th>\n",
       "      <th>Sex</th>\n",
       "      <th>Age</th>\n",
       "      <th>SibSp</th>\n",
       "      <th>Parch</th>\n",
       "      <th>Ticket</th>\n",
       "      <th>Fare</th>\n",
       "      <th>Cabin</th>\n",
       "      <th>Embarked</th>\n",
       "      <th>Title</th>\n",
       "      <th>familyNum</th>\n",
       "      <th>familySize</th>\n",
       "      <th>Deck</th>\n",
       "      <th>TickCot</th>\n",
       "      <th>TickGroup</th>\n",
       "    </tr>\n",
       "  </thead>\n",
       "  <tbody>\n",
       "    <tr>\n",
       "      <th>5</th>\n",
       "      <td>6</td>\n",
       "      <td>0.0</td>\n",
       "      <td>3</td>\n",
       "      <td>Moran, Mr. James</td>\n",
       "      <td>male</td>\n",
       "      <td>NaN</td>\n",
       "      <td>0</td>\n",
       "      <td>0</td>\n",
       "      <td>330877</td>\n",
       "      <td>2.135148</td>\n",
       "      <td>U</td>\n",
       "      <td>Q</td>\n",
       "      <td>Mr</td>\n",
       "      <td>1</td>\n",
       "      <td>0</td>\n",
       "      <td>U</td>\n",
       "      <td>1</td>\n",
       "      <td>1</td>\n",
       "    </tr>\n",
       "    <tr>\n",
       "      <th>17</th>\n",
       "      <td>18</td>\n",
       "      <td>1.0</td>\n",
       "      <td>2</td>\n",
       "      <td>Williams, Mr. Charles Eugene</td>\n",
       "      <td>male</td>\n",
       "      <td>NaN</td>\n",
       "      <td>0</td>\n",
       "      <td>0</td>\n",
       "      <td>244373</td>\n",
       "      <td>2.564949</td>\n",
       "      <td>U</td>\n",
       "      <td>S</td>\n",
       "      <td>Mr</td>\n",
       "      <td>1</td>\n",
       "      <td>0</td>\n",
       "      <td>U</td>\n",
       "      <td>1</td>\n",
       "      <td>1</td>\n",
       "    </tr>\n",
       "    <tr>\n",
       "      <th>19</th>\n",
       "      <td>20</td>\n",
       "      <td>1.0</td>\n",
       "      <td>3</td>\n",
       "      <td>Masselmani, Mrs. Fatima</td>\n",
       "      <td>female</td>\n",
       "      <td>NaN</td>\n",
       "      <td>0</td>\n",
       "      <td>0</td>\n",
       "      <td>2649</td>\n",
       "      <td>1.977547</td>\n",
       "      <td>U</td>\n",
       "      <td>C</td>\n",
       "      <td>Mrs</td>\n",
       "      <td>1</td>\n",
       "      <td>0</td>\n",
       "      <td>U</td>\n",
       "      <td>1</td>\n",
       "      <td>1</td>\n",
       "    </tr>\n",
       "    <tr>\n",
       "      <th>26</th>\n",
       "      <td>27</td>\n",
       "      <td>0.0</td>\n",
       "      <td>3</td>\n",
       "      <td>Emir, Mr. Farred Chehab</td>\n",
       "      <td>male</td>\n",
       "      <td>NaN</td>\n",
       "      <td>0</td>\n",
       "      <td>0</td>\n",
       "      <td>2631</td>\n",
       "      <td>1.977547</td>\n",
       "      <td>U</td>\n",
       "      <td>C</td>\n",
       "      <td>Mr</td>\n",
       "      <td>1</td>\n",
       "      <td>0</td>\n",
       "      <td>U</td>\n",
       "      <td>1</td>\n",
       "      <td>1</td>\n",
       "    </tr>\n",
       "    <tr>\n",
       "      <th>28</th>\n",
       "      <td>29</td>\n",
       "      <td>1.0</td>\n",
       "      <td>3</td>\n",
       "      <td>O'Dwyer, Miss. Ellen \"Nellie\"</td>\n",
       "      <td>female</td>\n",
       "      <td>NaN</td>\n",
       "      <td>0</td>\n",
       "      <td>0</td>\n",
       "      <td>330959</td>\n",
       "      <td>2.064226</td>\n",
       "      <td>U</td>\n",
       "      <td>Q</td>\n",
       "      <td>Miss</td>\n",
       "      <td>1</td>\n",
       "      <td>0</td>\n",
       "      <td>U</td>\n",
       "      <td>1</td>\n",
       "      <td>1</td>\n",
       "    </tr>\n",
       "  </tbody>\n",
       "</table>\n",
       "</div>"
      ],
      "text/plain": [
       "    PassengerId  Survived  Pclass                           Name     Sex  Age  \\\n",
       "5             6       0.0       3               Moran, Mr. James    male  NaN   \n",
       "17           18       1.0       2   Williams, Mr. Charles Eugene    male  NaN   \n",
       "19           20       1.0       3        Masselmani, Mrs. Fatima  female  NaN   \n",
       "26           27       0.0       3        Emir, Mr. Farred Chehab    male  NaN   \n",
       "28           29       1.0       3  O'Dwyer, Miss. Ellen \"Nellie\"  female  NaN   \n",
       "\n",
       "    SibSp  Parch  Ticket      Fare Cabin Embarked Title  familyNum  \\\n",
       "5       0      0  330877  2.135148     U        Q    Mr          1   \n",
       "17      0      0  244373  2.564949     U        S    Mr          1   \n",
       "19      0      0    2649  1.977547     U        C   Mrs          1   \n",
       "26      0      0    2631  1.977547     U        C    Mr          1   \n",
       "28      0      0  330959  2.064226     U        Q  Miss          1   \n",
       "\n",
       "    familySize Deck  TickCot  TickGroup  \n",
       "5            0    U        1          1  \n",
       "17           0    U        1          1  \n",
       "19           0    U        1          1  \n",
       "26           0    U        1          1  \n",
       "28           0    U        1          1  "
      ]
     },
     "execution_count": 114,
     "metadata": {},
     "output_type": "execute_result"
    }
   ],
   "source": [
    "#查看缺失值情况\n",
    "full[full['Age'].isnull()].head()"
   ]
  },
  {
   "cell_type": "markdown",
   "metadata": {},
   "source": [
    "1、筛选数据"
   ]
  },
  {
   "cell_type": "code",
   "execution_count": 115,
   "metadata": {},
   "outputs": [
    {
     "data": {
      "text/html": [
       "<div>\n",
       "<style scoped>\n",
       "    .dataframe tbody tr th:only-of-type {\n",
       "        vertical-align: middle;\n",
       "    }\n",
       "\n",
       "    .dataframe tbody tr th {\n",
       "        vertical-align: top;\n",
       "    }\n",
       "\n",
       "    .dataframe thead th {\n",
       "        text-align: right;\n",
       "    }\n",
       "</style>\n",
       "<table border=\"1\" class=\"dataframe\">\n",
       "  <thead>\n",
       "    <tr style=\"text-align: right;\">\n",
       "      <th></th>\n",
       "      <th>Age</th>\n",
       "      <th>Parch</th>\n",
       "      <th>Pclass</th>\n",
       "      <th>SibSp</th>\n",
       "      <th>familyNum</th>\n",
       "      <th>TickCot</th>\n",
       "      <th>Title_Master</th>\n",
       "      <th>Title_Miss</th>\n",
       "      <th>Title_Mr</th>\n",
       "      <th>Title_Mrs</th>\n",
       "      <th>...</th>\n",
       "      <th>SibSp_0</th>\n",
       "      <th>SibSp_1</th>\n",
       "      <th>SibSp_2</th>\n",
       "      <th>SibSp_3</th>\n",
       "      <th>SibSp_4</th>\n",
       "      <th>SibSp_5</th>\n",
       "      <th>SibSp_8</th>\n",
       "      <th>Pclass_1</th>\n",
       "      <th>Pclass_2</th>\n",
       "      <th>Pclass_3</th>\n",
       "    </tr>\n",
       "  </thead>\n",
       "  <tbody>\n",
       "    <tr>\n",
       "      <th>0</th>\n",
       "      <td>22.0</td>\n",
       "      <td>0</td>\n",
       "      <td>3</td>\n",
       "      <td>1</td>\n",
       "      <td>2</td>\n",
       "      <td>1</td>\n",
       "      <td>0</td>\n",
       "      <td>0</td>\n",
       "      <td>1</td>\n",
       "      <td>0</td>\n",
       "      <td>...</td>\n",
       "      <td>0</td>\n",
       "      <td>1</td>\n",
       "      <td>0</td>\n",
       "      <td>0</td>\n",
       "      <td>0</td>\n",
       "      <td>0</td>\n",
       "      <td>0</td>\n",
       "      <td>0</td>\n",
       "      <td>0</td>\n",
       "      <td>1</td>\n",
       "    </tr>\n",
       "    <tr>\n",
       "      <th>1</th>\n",
       "      <td>38.0</td>\n",
       "      <td>0</td>\n",
       "      <td>1</td>\n",
       "      <td>1</td>\n",
       "      <td>2</td>\n",
       "      <td>2</td>\n",
       "      <td>0</td>\n",
       "      <td>0</td>\n",
       "      <td>0</td>\n",
       "      <td>1</td>\n",
       "      <td>...</td>\n",
       "      <td>0</td>\n",
       "      <td>1</td>\n",
       "      <td>0</td>\n",
       "      <td>0</td>\n",
       "      <td>0</td>\n",
       "      <td>0</td>\n",
       "      <td>0</td>\n",
       "      <td>1</td>\n",
       "      <td>0</td>\n",
       "      <td>0</td>\n",
       "    </tr>\n",
       "    <tr>\n",
       "      <th>2</th>\n",
       "      <td>26.0</td>\n",
       "      <td>0</td>\n",
       "      <td>3</td>\n",
       "      <td>0</td>\n",
       "      <td>1</td>\n",
       "      <td>1</td>\n",
       "      <td>0</td>\n",
       "      <td>1</td>\n",
       "      <td>0</td>\n",
       "      <td>0</td>\n",
       "      <td>...</td>\n",
       "      <td>1</td>\n",
       "      <td>0</td>\n",
       "      <td>0</td>\n",
       "      <td>0</td>\n",
       "      <td>0</td>\n",
       "      <td>0</td>\n",
       "      <td>0</td>\n",
       "      <td>0</td>\n",
       "      <td>0</td>\n",
       "      <td>1</td>\n",
       "    </tr>\n",
       "    <tr>\n",
       "      <th>3</th>\n",
       "      <td>35.0</td>\n",
       "      <td>0</td>\n",
       "      <td>1</td>\n",
       "      <td>1</td>\n",
       "      <td>2</td>\n",
       "      <td>2</td>\n",
       "      <td>0</td>\n",
       "      <td>0</td>\n",
       "      <td>0</td>\n",
       "      <td>1</td>\n",
       "      <td>...</td>\n",
       "      <td>0</td>\n",
       "      <td>1</td>\n",
       "      <td>0</td>\n",
       "      <td>0</td>\n",
       "      <td>0</td>\n",
       "      <td>0</td>\n",
       "      <td>0</td>\n",
       "      <td>1</td>\n",
       "      <td>0</td>\n",
       "      <td>0</td>\n",
       "    </tr>\n",
       "    <tr>\n",
       "      <th>4</th>\n",
       "      <td>35.0</td>\n",
       "      <td>0</td>\n",
       "      <td>3</td>\n",
       "      <td>0</td>\n",
       "      <td>1</td>\n",
       "      <td>1</td>\n",
       "      <td>0</td>\n",
       "      <td>0</td>\n",
       "      <td>1</td>\n",
       "      <td>0</td>\n",
       "      <td>...</td>\n",
       "      <td>1</td>\n",
       "      <td>0</td>\n",
       "      <td>0</td>\n",
       "      <td>0</td>\n",
       "      <td>0</td>\n",
       "      <td>0</td>\n",
       "      <td>0</td>\n",
       "      <td>0</td>\n",
       "      <td>0</td>\n",
       "      <td>1</td>\n",
       "    </tr>\n",
       "  </tbody>\n",
       "</table>\n",
       "<p>5 rows × 30 columns</p>\n",
       "</div>"
      ],
      "text/plain": [
       "    Age  Parch  Pclass  SibSp  familyNum  TickCot  Title_Master  Title_Miss  \\\n",
       "0  22.0      0       3      1          2        1             0           0   \n",
       "1  38.0      0       1      1          2        2             0           0   \n",
       "2  26.0      0       3      0          1        1             0           1   \n",
       "3  35.0      0       1      1          2        2             0           0   \n",
       "4  35.0      0       3      0          1        1             0           0   \n",
       "\n",
       "   Title_Mr  Title_Mrs  ...  SibSp_0  SibSp_1  SibSp_2  SibSp_3  SibSp_4  \\\n",
       "0         1          0  ...        0        1        0        0        0   \n",
       "1         0          1  ...        0        1        0        0        0   \n",
       "2         0          0  ...        1        0        0        0        0   \n",
       "3         0          1  ...        0        1        0        0        0   \n",
       "4         1          0  ...        1        0        0        0        0   \n",
       "\n",
       "   SibSp_5  SibSp_8  Pclass_1  Pclass_2  Pclass_3  \n",
       "0        0        0         0         0         1  \n",
       "1        0        0         1         0         0  \n",
       "2        0        0         0         0         1  \n",
       "3        0        0         1         0         0  \n",
       "4        0        0         0         0         1  \n",
       "\n",
       "[5 rows x 30 columns]"
      ]
     },
     "execution_count": 115,
     "metadata": {},
     "output_type": "execute_result"
    }
   ],
   "source": [
    "#筛选数据集\n",
    "AgePre=full[['Age','Parch','Pclass','SibSp','Title','familyNum','TickCot']]\n",
    "#进行one-hot编码\n",
    "AgePre=pd.get_dummies(AgePre)\n",
    "ParAge=pd.get_dummies(AgePre['Parch'],prefix='Parch')\n",
    "SibAge=pd.get_dummies(AgePre['SibSp'],prefix='SibSp')\n",
    "PclAge=pd.get_dummies(AgePre['Pclass'],prefix='Pclass')\n",
    "#查看变量间的相关性\n",
    "AgeCorrDf=pd.DataFrame()\n",
    "AgeCorrDf=AgePre.corr()\n",
    "AgeCorrDf['Age'].sort_values()\n",
    "#拼接数据\n",
    "AgePre=pd.concat([AgePre,ParAge,SibAge,PclAge],axis=1)\n",
    "AgePre.head()"
   ]
  },
  {
   "cell_type": "markdown",
   "metadata": {},
   "source": [
    "2、拆分数据并建立模型（利用随机森林构建模型）"
   ]
  },
  {
   "cell_type": "code",
   "execution_count": 116,
   "metadata": {},
   "outputs": [
    {
     "data": {
      "text/plain": [
       "RandomForestRegressor(bootstrap=True, ccp_alpha=0.0, criterion='mse',\n",
       "                      max_depth=None, max_features='auto', max_leaf_nodes=None,\n",
       "                      max_samples=None, min_impurity_decrease=0.0,\n",
       "                      min_impurity_split=None, min_samples_leaf=1,\n",
       "                      min_samples_split=2, min_weight_fraction_leaf=0.0,\n",
       "                      n_estimators=500, n_jobs=-1, oob_score=False,\n",
       "                      random_state=None, verbose=0, warm_start=False)"
      ]
     },
     "execution_count": 116,
     "metadata": {},
     "output_type": "execute_result"
    }
   ],
   "source": [
    "#拆分实验集和预测集\n",
    "AgeKnown=AgePre[AgePre['Age'].notnull()]\n",
    "AgeUnknown=AgePre[AgePre['Age'].isnull()]\n",
    "#生成实验数据的特征和标签\n",
    "AgeKnown_X=AgeKnown.drop(['Age'],axis=1)\n",
    "AgeKnown_Y=AgeKnown['Age']\n",
    "#生成预测数据的特征\n",
    "AgeUnknown_X=AgeUnknown.drop(['Age'],axis=1)\n",
    "\n",
    "#利用随机森林构建模型\n",
    "from sklearn.ensemble import RandomForestRegressor\n",
    "rfr=RandomForestRegressor(random_state=None,n_estimators=500,n_jobs=-1)\n",
    "rfr.fit(AgeKnown_X,AgeKnown_Y)"
   ]
  },
  {
   "cell_type": "markdown",
   "metadata": {},
   "source": [
    "3、利用模型进行预测并填入原数据中"
   ]
  },
  {
   "cell_type": "code",
   "execution_count": 117,
   "metadata": {},
   "outputs": [
    {
     "name": "stdout",
     "output_type": "stream",
     "text": [
      "<class 'pandas.core.frame.DataFrame'>\n",
      "RangeIndex: 1309 entries, 0 to 1308\n",
      "Data columns (total 18 columns):\n",
      " #   Column       Non-Null Count  Dtype  \n",
      "---  ------       --------------  -----  \n",
      " 0   PassengerId  1309 non-null   int64  \n",
      " 1   Survived     891 non-null    float64\n",
      " 2   Pclass       1309 non-null   int64  \n",
      " 3   Name         1309 non-null   object \n",
      " 4   Sex          1309 non-null   object \n",
      " 5   Age          1309 non-null   float64\n",
      " 6   SibSp        1309 non-null   int64  \n",
      " 7   Parch        1309 non-null   int64  \n",
      " 8   Ticket       1309 non-null   object \n",
      " 9   Fare         1309 non-null   float64\n",
      " 10  Cabin        1309 non-null   object \n",
      " 11  Embarked     1309 non-null   object \n",
      " 12  Title        1309 non-null   object \n",
      " 13  familyNum    1309 non-null   int64  \n",
      " 14  familySize   1309 non-null   int64  \n",
      " 15  Deck         1309 non-null   object \n",
      " 16  TickCot      1309 non-null   int64  \n",
      " 17  TickGroup    1309 non-null   int64  \n",
      "dtypes: float64(3), int64(8), object(7)\n",
      "memory usage: 148.3+ KB\n"
     ]
    }
   ],
   "source": [
    "#模型得分\n",
    "rfr.score(AgeKnown_X,AgeKnown_Y)\n",
    "#预测年龄\n",
    "AgeUnknown_Y=rfr.predict(AgeUnknown_X)\n",
    "#填充预测数据\n",
    "full.loc[full['Age'].isnull(),['Age']]=AgeUnknown_Y\n",
    "full.info()\n",
    "#此时已无缺失值"
   ]
  },
  {
   "cell_type": "markdown",
   "metadata": {},
   "source": [
    "### 4.3同组识别"
   ]
  },
  {
   "cell_type": "markdown",
   "metadata": {},
   "source": [
    "虽然通过分析数据已有特征与标签的关系可以构建有效的预测模型，但是部分具有明显共同特征的用户与整体模型逻辑并不一致。因此找出具有明显同组效应且违背整体规律的数据，对其数据进行修正，就可以有效提高模型的准确率。在Titanic案例中，主要探究相同姓氏的乘客是否存在明显的同组效应。  \n",
    "\n",
    "提取两部分数据，分别查看其“姓氏”是否存在同组效应（因为性别和年龄与生存率之间的关系最为密切，因此用这两个特征作为分类条件）：  \n",
    "1、12岁以上男性  \n",
    "2、女性及年龄在12岁以下的儿童"
   ]
  },
  {
   "cell_type": "code",
   "execution_count": 118,
   "metadata": {},
   "outputs": [],
   "source": [
    "#提取乘客的姓氏及相应的乘客数\n",
    "full['Surname']=full['Name'].map(lambda x:x.split(',')[0].strip())\n",
    "SurNameDict={}\n",
    "SurNameDict=full['Surname'].value_counts()\n",
    "full['SurnameNum']=full['Surname'].map(SurNameDict)\n",
    "\n",
    "#将数据分为两组\n",
    "MaleDf=full[(full['Sex']=='male')&(full['Age']>12)&(full['familyNum']>=2)]\n",
    "FemChildDf=full[((full['Sex']=='female')|(full['Age']<=12))&(full['familyNum']>=2)]"
   ]
  },
  {
   "cell_type": "markdown",
   "metadata": {},
   "source": [
    "#### 男性同组效应分析："
   ]
  },
  {
   "cell_type": "code",
   "execution_count": 119,
   "metadata": {},
   "outputs": [
    {
     "data": {
      "text/plain": [
       "0.0    89\n",
       "1.0    19\n",
       "0.5     3\n",
       "Name: Survived, dtype: int64"
      ]
     },
     "execution_count": 119,
     "metadata": {},
     "output_type": "execute_result"
    }
   ],
   "source": [
    "#分析男性同组效应\n",
    "MSurNamDf=MaleDf['Survived'].groupby(MaleDf['Surname']).mean()\n",
    "MSurNamDf.head()\n",
    "MSurNamDf.value_counts()"
   ]
  },
  {
   "cell_type": "markdown",
   "metadata": {},
   "source": [
    "大多数男性存在“同生共死”的特点，因此利用该同组效应，对生存率为1的男性数据进行修正，提高其被预测为“可以幸存”的概率。"
   ]
  },
  {
   "cell_type": "code",
   "execution_count": 120,
   "metadata": {},
   "outputs": [
    {
     "data": {
      "text/plain": [
       "Index(['Beane', 'Beckwith', 'Bishop', 'Cardeza', 'Chambers', 'Dick',\n",
       "       'Duff Gordon', 'Frauenthal', 'Frolicher-Stehli', 'Goldenberg',\n",
       "       'Greenfield', 'Harder', 'Hoyt', 'Kimball', 'Lindqvist', 'McCoy',\n",
       "       'Nakid', 'Persson', 'Taylor'],\n",
       "      dtype='object', name='Surname')"
      ]
     },
     "execution_count": 120,
     "metadata": {},
     "output_type": "execute_result"
    }
   ],
   "source": [
    "#获得生存率为1的姓氏\n",
    "MSurNamDict={}\n",
    "MSurNamDict=MSurNamDf[MSurNamDf.values==1].index\n",
    "MSurNamDict"
   ]
  },
  {
   "cell_type": "markdown",
   "metadata": {},
   "source": [
    "#### 女性及儿童同组效应分析 "
   ]
  },
  {
   "cell_type": "code",
   "execution_count": 121,
   "metadata": {},
   "outputs": [
    {
     "data": {
      "text/plain": [
       "1.000000    115\n",
       "0.000000     27\n",
       "0.750000      2\n",
       "0.333333      1\n",
       "0.142857      1\n",
       "Name: Survived, dtype: int64"
      ]
     },
     "execution_count": 121,
     "metadata": {},
     "output_type": "execute_result"
    }
   ],
   "source": [
    "#分析女性及儿童同组效应\n",
    "FCSurNamDf=FemChildDf['Survived'].groupby(FemChildDf['Surname']).mean()\n",
    "FCSurNamDf.head()\n",
    "FCSurNamDf.value_counts()"
   ]
  },
  {
   "cell_type": "markdown",
   "metadata": {},
   "source": [
    "与男性同组特征相似，女性及儿童也存在明显的“同生共死”特点，因此利用该同组效应，对生存率为0的姓氏里的女性及儿童数据进行修正，提升其被预测为“并未幸存”的概率。"
   ]
  },
  {
   "cell_type": "code",
   "execution_count": 122,
   "metadata": {},
   "outputs": [
    {
     "data": {
      "text/plain": [
       "Index(['Abbott', 'Abelson', 'Aks', 'Andersen-Jensen', 'Andrews', 'Angle',\n",
       "       'Appleton', 'Astor', 'Backstrom', 'Baclini',\n",
       "       ...\n",
       "       'Thomas', 'Thorneycroft', 'Touma', 'Warren', 'Weisz', 'Wells', 'West',\n",
       "       'Wick', 'Yasbeck', 'de Messemaeker'],\n",
       "      dtype='object', name='Surname', length=115)"
      ]
     },
     "execution_count": 122,
     "metadata": {},
     "output_type": "execute_result"
    }
   ],
   "source": [
    "#获得生存率为0的姓氏\n",
    "FCSurNamDict={}\n",
    "FCSurNamDict=FCSurNamDf[FCSurNamDf.values==1].index\n",
    "FCSurNamDict"
   ]
  },
  {
   "cell_type": "markdown",
   "metadata": {},
   "source": [
    "对数据集中这些姓氏的两组数据进行修正：  \n",
    "男性数据修正为：1、性别改为女 2、年龄改为5；\n",
    "女性及儿童数据修正为：1、性别改为男 2、年龄改为60。"
   ]
  },
  {
   "cell_type": "code",
   "execution_count": 123,
   "metadata": {},
   "outputs": [],
   "source": [
    "#对数据集中的男性数据进行修正：1、性别改为女 2、年龄改为5\n",
    "full.loc[(full['Survived'].isnull())&(full['Surname'].isin(MSurNamDict))&(full['Sex']=='male'),'Age']=5\n",
    "full.loc[(full['Survived'].isnull())&(full['Surname'].isin(MSurNamDict))&(full['Sex']=='male'),'Sex']='female'\n",
    "#对数据集中的女性及儿童数据进行修正：1、性别改为男 2、年龄改为60\n",
    "full.loc[(full['Survived'].isnull())&(full['Surname'].isin(FCSurNamDict))&((full['Sex']=='female')|(full['Age']<=12)),'Age']=60\n",
    "full.loc[(full['Survived'].isnull())&(full['Surname'].isin(FCSurNamDict))&((full['Sex']=='female')|(full['Age']<=12)),'Sex']='male'"
   ]
  },
  {
   "cell_type": "markdown",
   "metadata": {},
   "source": [
    "### 4.4筛选子集"
   ]
  },
  {
   "cell_type": "markdown",
   "metadata": {},
   "source": [
    "在对数据进行分析处理的过程中，数据的维度更高了，为提升数据有效性需要对数据进行降维处理。通过找出与乘客生存率‘Survived'相关性更高的特征，剔除重复的且相关性较低的特征，从而实现数据降维。"
   ]
  },
  {
   "cell_type": "code",
   "execution_count": 124,
   "metadata": {},
   "outputs": [
    {
     "data": {
      "text/plain": [
       "(array([0.5, 1.5, 2.5, 3.5, 4.5, 5.5, 6.5, 7.5, 8.5, 9.5]),\n",
       " <a list of 10 Text xticklabel objects>)"
      ]
     },
     "execution_count": 124,
     "metadata": {},
     "output_type": "execute_result"
    },
    {
     "data": {
      "image/png": "[encoded data removed]",
      "text/plain": [
       "<Figure size 576x576 with 2 Axes>"
      ]
     },
     "metadata": {},
     "output_type": "display_data"
    }
   ],
   "source": [
    "#人工筛选\n",
    "fullSel=full.drop(['Cabin','Name','Ticket','PassengerId','Surname','SurnameNum'],axis=1)\n",
    "#查看各特征与Survived的相关性\n",
    "corrDf=pd.DataFrame()\n",
    "corrDf=fullSel.corr()\n",
    "corrDf['Survived'].sort_values(ascending=True)\n",
    "#通过热力图，查看Survived与其他特征间相关性大小\n",
    "plt.figure(figsize=(8,8))\n",
    "sns.heatmap(fullSel[['Survived','Age','Embarked','Fare','Parch','Pclass','Sex','SibSp','Title','familyNum','familySize','Deck','TickCot','TickGroup']].corr(),cmap='BrBG',annot=True,linewidths=.5)\n",
    "plt.xticks(rotation=45)"
   ]
  },
  {
   "cell_type": "markdown",
   "metadata": {},
   "source": [
    "先人工初步筛除与标签预测明显不相关或相关度很低的特征，再查看剩余特征与标签之间的相关性大小做进一步降维。"
   ]
  },
  {
   "cell_type": "code",
   "execution_count": 125,
   "metadata": {},
   "outputs": [],
   "source": [
    "fullSel=fullSel.drop(['familyNum','SibSp','TickCot','Parch'],axis=1)\n",
    "#进行one-hot编码\n",
    "fullSel=pd.get_dummies(fullSel)\n",
    "PclassDf=pd.get_dummies(full['Pclass'],prefix='Pclass')\n",
    "TickGroupDf=pd.get_dummies(full['TickGroup'],prefix='TickGroup')\n",
    "familySizeDf=pd.get_dummies(full['familySize'],prefix='familySize')\n",
    "#拼接数据\n",
    "fullSel=pd.concat([fullSel,PclassDf,TickGroupDf,familySizeDf],axis=1)"
   ]
  },
  {
   "cell_type": "markdown",
   "metadata": {},
   "source": [
    "## 5.构建模型"
   ]
  },
  {
   "cell_type": "markdown",
   "metadata": {},
   "source": [
    "本文比较了多种机器学习算法的结果，并对表现较好的Gradient Boosting及Logistic Regression做进一步的对比，最终选择Gradient Boosting对乘客生存率进行预测。"
   ]
  },
  {
   "cell_type": "markdown",
   "metadata": {},
   "source": [
    "### 5.1模型选择"
   ]
  },
  {
   "cell_type": "markdown",
   "metadata": {},
   "source": [
    "#### 5.1.1建立模型"
   ]
  },
  {
   "cell_type": "markdown",
   "metadata": {},
   "source": [
    "主要考虑使用以下几种常用的机器学习算法进行比较：  \n",
    "•SVC \n",
    "•Decision Tree  \n",
    "•Extra Trees  \n",
    "•Gradient Boosting  \n",
    "•Random Forest  \n",
    "•KNN  \n",
    "•Logistic Regression  \n",
    "•Linear Discriminant Analysis  "
   ]
  },
  {
   "cell_type": "code",
   "execution_count": 126,
   "metadata": {},
   "outputs": [],
   "source": [
    "#拆分实验数据和预测数据\n",
    "experData=fullSel[fullSel['Survived'].notnull()]\n",
    "preData=fullSel[fullSel['Survived'].isnull()]\n",
    "#生成实验数据的特征和标签\n",
    "experData_X=experData.drop('Survived',axis=1)\n",
    "experData_Y=experData['Survived']\n",
    "#生成预测数据的特征\n",
    "preData_X=preData.drop('Survived',axis=1)\n",
    "\n",
    "\n",
    "#导入机器学习算法库\n",
    "from sklearn.ensemble import RandomForestClassifier,GradientBoostingClassifier,ExtraTreesClassifier\n",
    "from sklearn.discriminant_analysis import LinearDiscriminantAnalysis\n",
    "from sklearn.linear_model import LogisticRegression\n",
    "from sklearn.neighbors import KNeighborsClassifier\n",
    "from sklearn.tree import DecisionTreeClassifier\n",
    "from sklearn.svm import SVC\n",
    "from sklearn.model_selection import GridSearchCV,cross_val_score,StratifiedKFold\n",
    "from sklearn.ensemble import VotingClassifier #模型组合\n",
    "\n",
    "#设置kfold,交叉采样法拆分数据集\n",
    "kfold=StratifiedKFold(n_splits=10)\n",
    "\n",
    "#汇总不同模型算法\n",
    "classifiers=[]\n",
    "classifiers.append(SVC())\n",
    "classifiers.append(DecisionTreeClassifier())\n",
    "classifiers.append(RandomForestClassifier())\n",
    "classifiers.append(ExtraTreesClassifier())\n",
    "classifiers.append(GradientBoostingClassifier())\n",
    "classifiers.append(KNeighborsClassifier())\n",
    "classifiers.append(LogisticRegression())\n",
    "classifiers.append(LinearDiscriminantAnalysis())"
   ]
  },
  {
   "cell_type": "markdown",
   "metadata": {},
   "source": [
    "#### 5.1.2比较各种算法结果，进一步选择模型"
   ]
  },
  {
   "cell_type": "code",
   "execution_count": 127,
   "metadata": {},
   "outputs": [
    {
     "data": {
      "text/plain": [
       "<matplotlib.axes._subplots.AxesSubplot at 0x175f36d0>"
      ]
     },
     "execution_count": 127,
     "metadata": {},
     "output_type": "execute_result"
    },
    {
     "data": {
      "image/png": "[encoded data removed]",
      "text/plain": [
       "<Figure size 432x288 with 1 Axes>"
      ]
     },
     "metadata": {},
     "output_type": "display_data"
    }
   ],
   "source": [
    "#不同机器学习交叉验证结果汇总\n",
    "cv_results=[]\n",
    "for classifier in classifiers:\n",
    "    cv_results.append(cross_val_score(classifier,experData_X,experData_Y,scoring='accuracy',cv=kfold,n_jobs=-1))\n",
    "\n",
    "#求出模型得分的均值和标准差\n",
    "cv_means=[]\n",
    "cv_std=[]\n",
    "for cv_result in cv_results:\n",
    "    cv_means.append(cv_result.mean())\n",
    "    cv_std.append(cv_result.std())\n",
    "    \n",
    "#汇总数据\n",
    "cvResDf=pd.DataFrame({'cv_mean':cv_means,  \n",
    "                     'cv_std':cv_std,  \n",
    "                     'algorithm':['SVC','DecisionTreeCla','RandomForestCla','ExtraTreesCla',\n",
    "                                  'GradientBoostingCla','KNN','LR','LinearDiscrimiAna']})\n",
    "cvResDf\n",
    "\n",
    "#可视化查看各种算法的表现\n",
    "sns.barplot(data=cvResDf,x='cv_mean',y='algorithm',**{'xerr':cv_std})"
   ]
  },
  {
   "cell_type": "markdown",
   "metadata": {},
   "source": [
    "#### 5.1.3模型调优"
   ]
  },
  {
   "cell_type": "markdown",
   "metadata": {},
   "source": [
    "综合以上模型表现，考虑选择GradientBoostingCla、LR两种模型进一步对比。"
   ]
  },
  {
   "cell_type": "markdown",
   "metadata": {},
   "source": [
    "分别建立GradientBoostingClassifier以及LogisticRegression模型，并进行模型调优。"
   ]
  },
  {
   "cell_type": "code",
   "execution_count": 128,
   "metadata": {},
   "outputs": [
    {
     "name": "stdout",
     "output_type": "stream",
     "text": [
      "Fitting 10 folds for each of 72 candidates, totalling 720 fits\n"
     ]
    },
    {
     "name": "stderr",
     "output_type": "stream",
     "text": [
      "[Parallel(n_jobs=-1)]: Using backend LokyBackend with 4 concurrent workers.\n",
      "[Parallel(n_jobs=-1)]: Done  76 tasks      | elapsed:    5.6s\n",
      "[Parallel(n_jobs=-1)]: Done 376 tasks      | elapsed:   30.1s\n",
      "[Parallel(n_jobs=-1)]: Done 698 tasks      | elapsed:   58.0s\n",
      "[Parallel(n_jobs=-1)]: Done 720 out of 720 | elapsed:   59.6s finished\n"
     ]
    },
    {
     "name": "stdout",
     "output_type": "stream",
     "text": [
      "Fitting 10 folds for each of 6 candidates, totalling 60 fits\n"
     ]
    },
    {
     "name": "stderr",
     "output_type": "stream",
     "text": [
      "[Parallel(n_jobs=-1)]: Using backend LokyBackend with 4 concurrent workers.\n",
      "[Parallel(n_jobs=-1)]: Done  53 out of  60 | elapsed:    0.7s remaining:    0.0s\n",
      "[Parallel(n_jobs=-1)]: Done  60 out of  60 | elapsed:    0.8s finished\n"
     ]
    },
    {
     "data": {
      "text/plain": [
       "GridSearchCV(cv=StratifiedKFold(n_splits=10, random_state=None, shuffle=False),\n",
       "             error_score=nan,\n",
       "             estimator=LogisticRegression(C=1.0, class_weight=None, dual=False,\n",
       "                                          fit_intercept=True,\n",
       "                                          intercept_scaling=1, l1_ratio=None,\n",
       "                                          max_iter=100, multi_class='auto',\n",
       "                                          n_jobs=None, penalty='l2',\n",
       "                                          random_state=None, solver='lbfgs',\n",
       "                                          tol=0.0001, verbose=0,\n",
       "                                          warm_start=False),\n",
       "             iid='deprecated', n_jobs=-1,\n",
       "             param_grid={'C': [1, 2, 3], 'penalty': ['l1', 'l2']},\n",
       "             pre_dispatch='2*n_jobs', refit=True, return_train_score=False,\n",
       "             scoring='accuracy', verbose=1)"
      ]
     },
     "execution_count": 128,
     "metadata": {},
     "output_type": "execute_result"
    }
   ],
   "source": [
    "#GradientBoostingClassifier模型\n",
    "GBC=GradientBoostingClassifier()\n",
    "gb_param_grid={'loss':[\"deviance\"],\n",
    "              'n_estimators' : [100,200,300],\n",
    "              'learning_rate': [0.1, 0.05, 0.01],\n",
    "              'max_depth': [4, 8],\n",
    "              'min_samples_leaf': [100,150],\n",
    "              'max_features': [0.3, 0.1]}\n",
    "modelgsGBC=GridSearchCV(GBC,param_grid=gb_param_grid,cv=kfold, \n",
    "                                     scoring=\"accuracy\", n_jobs=-1, verbose=1)\n",
    "modelgsGBC.fit(experData_X,experData_Y)\n",
    "#LogisticRegression模型\n",
    "modelLR=LogisticRegression()\n",
    "LR_param_grid={'C':[1,2,3],\n",
    "                'penalty':['l1','l2']}\n",
    "modelgsLR=GridSearchCV(modelLR,param_grid=LR_param_grid,cv=kfold, \n",
    "                                     scoring=\"accuracy\", n_jobs=-1, verbose=1)\n",
    "modelgsLR.fit(experData_X,experData_Y)"
   ]
  },
  {
   "cell_type": "markdown",
   "metadata": {},
   "source": [
    "### 5.2查看模型得分"
   ]
  },
  {
   "cell_type": "markdown",
   "metadata": {},
   "source": [
    "1、查看模型准确度"
   ]
  },
  {
   "cell_type": "code",
   "execution_count": 129,
   "metadata": {},
   "outputs": [
    {
     "name": "stdout",
     "output_type": "stream",
     "text": [
      "modelgsGBC模型得分为：0.843\n",
      "modelgsLR模型得分为：0.828\n"
     ]
    }
   ],
   "source": [
    "#modelgsGBC模型\n",
    "print('modelgsGBC模型得分为：%.3f'%modelgsGBC.best_score_)\n",
    "#modelgsLR模型\n",
    "print('modelgsLR模型得分为：%.3f'%modelgsLR.best_score_)"
   ]
  },
  {
   "cell_type": "markdown",
   "metadata": {},
   "source": [
    "GBC模型得分（即模型准确性）更高，继续比较其他指标的差异。"
   ]
  },
  {
   "cell_type": "markdown",
   "metadata": {},
   "source": [
    "2、查看模型ROC曲线"
   ]
  },
  {
   "cell_type": "code",
   "execution_count": 130,
   "metadata": {},
   "outputs": [
    {
     "data": {
      "text/plain": [
       "<Figure size 432x288 with 0 Axes>"
      ]
     },
     "metadata": {},
     "output_type": "display_data"
    },
    {
     "data": {
      "image/png": "[encoded data removed]",
      "text/plain": [
       "<Figure size 720x720 with 1 Axes>"
      ]
     },
     "metadata": {},
     "output_type": "display_data"
    }
   ],
   "source": [
    "#Titanic GradientBoostingClassifier Model\n",
    "#求出测试数据模型的预测值\n",
    "modelgsGBCtestpre_y=modelgsGBC.predict(experData_X).astype(int)\n",
    "#画图\n",
    "from sklearn.metrics import roc_curve,auc  ###计算roc和auc\n",
    "# Compute ROC curve and ROC area for each class\n",
    "fpr,tpr,threshold=roc_curve(experData_Y, modelgsGBCtestpre_y) ###计算真正率和假正率\n",
    "roc_auc=auc(fpr,tpr) ###计算auc的值\n",
    "\n",
    "plt.figure()\n",
    "lw=2\n",
    "plt.figure(figsize=(10,10))\n",
    "plt.plot(fpr, tpr, color='r',\n",
    "         lw=lw, label='ROC curve (area = %0.3f)' % roc_auc) ###假正率为横坐标，真正率为纵坐标做曲线\n",
    "plt.plot([0, 1], [0, 1], color='navy', lw=lw, linestyle='--')\n",
    "plt.xlim([0.0, 1.0])\n",
    "plt.ylim([0.0, 1.0])\n",
    "plt.xlabel('False Positive Rate')\n",
    "plt.ylabel('True Positive Rate')\n",
    "plt.title('Titanic GradientBoostingClassifier Model')\n",
    "plt.legend(loc=\"lower right\")\n",
    "plt.show()"
   ]
  },
  {
   "cell_type": "code",
   "execution_count": 131,
   "metadata": {},
   "outputs": [
    {
     "data": {
      "text/plain": [
       "<Figure size 432x288 with 0 Axes>"
      ]
     },
     "metadata": {},
     "output_type": "display_data"
    },
    {
     "data": {
      "image/png": "[encoded data removed]",
      "text/plain": [
       "<Figure size 720x720 with 1 Axes>"
      ]
     },
     "metadata": {},
     "output_type": "display_data"
    }
   ],
   "source": [
    "#Titanic LogisticRegression Model\n",
    "#求出测试数据模型的预测值\n",
    "modelgsLRtestpre_y=modelgsLR.predict(experData_X).astype(int)\n",
    "#画图\n",
    "from sklearn.metrics import roc_curve,auc  ###计算roc和auc\n",
    "# Compute ROC curve and ROC area for each class\n",
    "fpr,tpr,threshold=roc_curve(experData_Y, modelgsLRtestpre_y) ###计算真正率和假正率\n",
    "roc_auc=auc(fpr,tpr) ###计算auc的值\n",
    "\n",
    "plt.figure()\n",
    "lw=2\n",
    "plt.figure(figsize=(10,10))\n",
    "plt.plot(fpr, tpr, color='r',\n",
    "         lw=lw, label='ROC curve (area = %0.3f)' % roc_auc) ###假正率为横坐标，真正率为纵坐标做曲线\n",
    "plt.plot([0, 1], [0, 1], color='navy', lw=lw, linestyle='--')\n",
    "plt.xlim([0.0, 1.0])\n",
    "plt.ylim([0.0, 1.0])\n",
    "plt.xlabel('False Positive Rate')\n",
    "plt.ylabel('True Positive Rate')\n",
    "plt.title('Titanic LogisticRegression Model')\n",
    "plt.legend(loc=\"lower right\")\n",
    "plt.show()"
   ]
  },
  {
   "cell_type": "markdown",
   "metadata": {},
   "source": [
    "GradientBoostingClassifier和LogisticRegression的AUC分别为0.852和0.820，即GradientBoostingClassifier模型效果更好。"
   ]
  },
  {
   "cell_type": "markdown",
   "metadata": {},
   "source": [
    "3、查看混淆矩阵"
   ]
  },
  {
   "cell_type": "code",
   "execution_count": 132,
   "metadata": {},
   "outputs": [
    {
     "name": "stdout",
     "output_type": "stream",
     "text": [
      "GradientBoostingClassifier模型混淆矩阵为\n",
      " [[502  47]\n",
      " [ 72 270]]\n",
      "LinearRegression模型混淆矩阵为\n",
      " [[478  71]\n",
      " [ 79 263]]\n"
     ]
    }
   ],
   "source": [
    "from sklearn.metrics import confusion_matrix\n",
    "print('GradientBoostingClassifier模型混淆矩阵为\\n',confusion_matrix(experData_Y.astype(int).astype(str),modelgsGBCtestpre_y.astype(str)))\n",
    "print('LinearRegression模型混淆矩阵为\\n',confusion_matrix(experData_Y.astype(int).astype(str),modelgsLRtestpre_y.astype(str)))"
   ]
  },
  {
   "cell_type": "markdown",
   "metadata": {},
   "source": [
    "通过混淆矩阵可以看出，GBC模型找出正例的能力高于LR模型。综合考虑，本项目中利用GBC方法进行模型预测。"
   ]
  },
  {
   "cell_type": "markdown",
   "metadata": {},
   "source": [
    "## 6.模型预测"
   ]
  },
  {
   "cell_type": "code",
   "execution_count": 133,
   "metadata": {},
   "outputs": [],
   "source": [
    "#TitanicGBCmodle\n",
    "GBCpreData_y=modelgsGBC.predict(preData_X)\n",
    "GBCpreData_y=GBCpreData_y.astype(int)\n",
    "#导出预测结果\n",
    "GBCpreResultDf=pd.DataFrame()\n",
    "GBCpreResultDf['PassengerId']=full['PassengerId'][full['Survived'].isnull()]\n",
    "GBCpreResultDf['Survived']=GBCpreData_y\n",
    "GBCpreResultDf\n",
    "#将预测结果导出为csv文件\n",
    "GBCpreResultDf.to_csv('E:/Python/Python项目/Titanic/TitanicGBCmodle.csv',index=False)"
   ]
  },
  {
   "cell_type": "markdown",
   "metadata": {},
   "source": [
    "## 7.总结"
   ]
  },
  {
   "cell_type": "markdown",
   "metadata": {},
   "source": [
    "将结果上传至Kaggle中，最终预测得分为0.81339，排名约TOP3%。\n",
    "\n",
    "在本次Kaggle项目过程中，参考学习了很多其他竞赛方案的分析思路及数据处理技巧，如：考虑同组效应，数据对数化处理，多种模型比较结果优劣等等。在项目过程中，主要从以下三个方面进行改进来提升结果准确性：\n",
    "\n",
    "1、模型优选：分别选取多种模型进行建模，根据模型评分进行初步比较，最终综合考虑多个性能指标来选择合适的预测模型；\n",
    "2、特征挖掘与筛选：通过挖掘新的特征并筛选相关性较高的特征，来选择最终训练模型的特征集合；  \n",
    "3、数据整容：缺失值的填充以及“不合群”数据的处理也直接影响模型的最终预测结果。"
   ]
  }
 ],
 "metadata": {
  "kernelspec": {
   "display_name": "Python 3",
   "language": "python",
   "name": "python3"
  },
  "language_info": {
   "codemirror_mode": {
    "name": "ipython",
    "version": 3
   },
   "file_extension": ".py",
   "mimetype": "text/x-python",
   "name": "python",
   "nbconvert_exporter": "python",
   "pygments_lexer": "ipython3",
   "version": "3.8.1"
  }
 },
 "nbformat": 4,
 "nbformat_minor": 4
}
